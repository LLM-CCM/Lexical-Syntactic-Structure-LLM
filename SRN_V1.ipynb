{
 "cells": [
  {
   "cell_type": "markdown",
   "id": "a6e8786a-a118-4144-9886-0bfb9c901629",
   "metadata": {},
   "source": [
    "# Easiest network-- predict Exclusive-OR\n",
    "# Predict next input\n",
    "- generate 1000 letter sequence containing d, b, g\n",
    "- replace d, b, g with dii, ba, guuu\n",
    "\n",
    "## network architecture\n",
    "6 input units, 20 hidden units, 6 output units, 20 context units\n",
    "# Hierarchical clustering analysis\n",
    "### Read and Preprocess inputs"
   ]
  },
  {
   "cell_type": "code",
   "execution_count": 100,
   "id": "eb501bd9-bfbb-4b7d-bb24-79fb8d018099",
   "metadata": {},
   "outputs": [],
   "source": [
    "# Let's start with some packages we need\n",
    "from __future__ import print_function\n",
    "import torch\n",
    "import torch.nn as nn\n",
    "import numpy as np\n",
    "import matplotlib\n",
    "%matplotlib inline\n",
    "import matplotlib.pyplot as plt\n",
    "from scipy.cluster.hierarchy import dendrogram, linkage"
   ]
  },
  {
   "cell_type": "code",
   "execution_count": null,
   "id": "2ad7ea58-9a51-4cb6-b281-0ca247d4de03",
   "metadata": {},
   "outputs": [],
   "source": [
    "import re\n",
    "import string\n",
    "from nltk.stem import PorterStemmer\n",
    "\n",
    "# Read the contents of the text file\n",
    "with open(\"data/NCE2.txt\", \"r\") as file:\n",
    "    text = file.read()\n",
    "    \n",
    "def remove_non_ascii(s):\n",
    "    return re.sub(r'[^\\x00-\\x7F]+|\\d', '', s)\n",
    "\n",
    "# Create a PorterStemmer object\n",
    "stemmer = PorterStemmer()\n",
    "\n",
    "# Splitting the text into sentences\n",
    "sentences = re.split(r'(?<!\\w\\.\\w.)(?<![A-Z][a-z]\\.)(?<=\\.|\\?)\\s|\\n', text)\n",
    "sentences = [remove_non_ascii(item) for item in sentences]\n",
    "print(sentences)"
   ]
  },
  {
   "cell_type": "code",
   "execution_count": 48,
   "id": "ada6d094-707e-4aa1-9ca8-60594c02e265",
   "metadata": {},
   "outputs": [],
   "source": [
    "# Preprocessing function\n",
    "def preprocess(sentence):\n",
    "    # Convert to lowercase\n",
    "    sentence = sentence.lower()\n",
    "    # Remove punctuation\n",
    "    sentence = sentence.translate(str.maketrans(\"\", \"\", string.punctuation))\n",
    "    # Tokenize the sentence\n",
    "    words = sentence.split()\n",
    "    stemmed_words = [stemmer.stem(word) for word in words]\n",
    "    return stemmed_words\n",
    "    # return words\n",
    "\n",
    "# Applying the preprocessing function to each sentence\n",
    "preprocessed_sentences = [preprocess(sentence) for sentence in sentences]\n",
    "sentences_tokens = [['<SOS>']+s+['<EOS>'] for s in preprocessed_sentences]\n",
    "# print(sentences_tokens)"
   ]
  },
  {
   "cell_type": "code",
   "execution_count": 50,
   "id": "c16e1836-5cf7-42c2-b652-6cec5da795b8",
   "metadata": {},
   "outputs": [],
   "source": [
    "unique_tokens = sorted(set(sum(sentences_tokens,[])))\n",
    "# print(unique_tokens)"
   ]
  },
  {
   "cell_type": "code",
   "execution_count": 52,
   "id": "2a2ec22a-4779-44bd-a211-54f39adaebe9",
   "metadata": {},
   "outputs": [],
   "source": [
    "def sentenceToTensor(tokens_list):\n",
    "    # Convert list of strings to tensor of token indices (integers)\n",
    "    #\n",
    "    # Input\n",
    "    #  tokens_list : list of strings, e.g. ['<SOS>','lion','eat','man','<EOS>']\n",
    "    # Output\n",
    "    #  1D tensor of the same length (integers), e.g., tensor([ 2, 18, 13, 19,  0])\n",
    "    assert(isinstance(tokens_list,list))\n",
    "    tokens_index = [token_to_index[token] for token in tokens_list]\n",
    "    return torch.tensor(tokens_index)\n"
   ]
  },
  {
   "cell_type": "code",
   "execution_count": null,
   "id": "fae2300d-cdf9-49d8-9098-ee447238fdf5",
   "metadata": {},
   "outputs": [],
   "source": [
    "n_tokens = len(unique_tokens) # all words and special tokens\n",
    "token_to_index = {t : i for i,t in enumerate(unique_tokens)}\n",
    "index_to_token = {i : t for i,t in enumerate(unique_tokens)}\n",
    "training_pats = [sentenceToTensor(s) for s in sentences_tokens] # python list of 1D sentence tensors\n",
    "ntrain = len(training_pats)\n",
    "print('mapping unique tokens to integers: %s \\n' % token_to_index)\n",
    "print('example sentence as string: %s \\n' % ' '.join(sentences_tokens[0]))\n",
    "print('example sentence as tensor: %s \\n' % training_pats[0])\n",
    "\n",
    "print(unique_tokens)"
   ]
  },
  {
   "cell_type": "markdown",
   "id": "df86c66b-1950-4865-8429-b32f1097e737",
   "metadata": {},
   "source": [
    "### RNN architecture"
   ]
  },
  {
   "cell_type": "code",
   "execution_count": 55,
   "id": "919b10cc-75ad-405f-a138-66fb6d249aa8",
   "metadata": {},
   "outputs": [],
   "source": [
    "class SRN(nn.Module):\n",
    "    \n",
    "    def __init__(self, vocab_size, hidden_size):\n",
    "        # vocab_size : number of tokens in vocabulary including special tokens <SOS> and <EOS>\n",
    "        # hidden_size : dim of input embeddings and hidden layer\n",
    "        super().__init__()\n",
    "        self.vocab_size = vocab_size\n",
    "        self.hidden_size = hidden_size\n",
    "        self.embed = nn.Embedding(vocab_size,hidden_size)\n",
    "        # TODO : YOUR CODE GOES HERE\n",
    "        self.fc1 = nn.Linear(hidden_size + hidden_size, hidden_size)\n",
    "        self.fc2 = nn.Linear(hidden_size, vocab_size)\n",
    "        self.sigmoid = nn.Sigmoid()\n",
    "        self.softmax = nn.LogSoftmax(dim=0)\n",
    "        # raise Exception('Replace with your code.')\n",
    "\n",
    "    def forward(self, input_token_index, hidden_prev):\n",
    "        # Input\n",
    "        #    input_token_index: [integer] index of current input tokens\n",
    "        #    hidden_prev: [length hidden_size 1D tensor] hidden state from previous step\n",
    "        # Outpuut\n",
    "        #    output: [length vocab_size 1D tensor] log-probability of emitting each output token\n",
    "        #    hidden_curr : [length hidden_size 1D tensor] hidden state for current step\n",
    "    \n",
    "        input_embed = self.embed(input_token_index) # hidden_size 1D tensor\n",
    "        \n",
    "        input_combined = torch.cat((input_embed, hidden_prev), 0) #previous hidden states + input_embed\n",
    "        hidden_curr = self.sigmoid(self.fc1(input_combined))\n",
    "        output = self.softmax(self.fc2(hidden_curr))\n",
    "\n",
    "        # raise Exception('Replace with your code.')\n",
    "        return output, hidden_curr\n",
    "\n",
    "    def initHidden(self):\n",
    "        # Returns length hidden_size 1D tensor of zeros\n",
    "        return torch.zeros(self.hidden_size)\n",
    "    \n",
    "    def get_embeddings(self):\n",
    "        # Returns [vocab_size x hidden_size] numpy array of input embeddings\n",
    "        return self.embed(torch.arange(self.vocab_size)).detach().numpy()"
   ]
  },
  {
   "cell_type": "markdown",
   "id": "d3025805-00ee-4174-b80f-2013c887d2f1",
   "metadata": {},
   "source": [
    "### Training"
   ]
  },
  {
   "cell_type": "code",
   "execution_count": 54,
   "id": "b32866d5-9125-494c-bb9d-6328e813026a",
   "metadata": {},
   "outputs": [],
   "source": [
    "def train(seq_tensor, rnn):\n",
    "    # Process a sentence and update the SRN weights. With <SOS> as the input at step 0,\n",
    "    # predict every subsequent word given the past words.\n",
    "    # Return the mean loss across each symbol prediction.\n",
    "    #\n",
    "    # Input\n",
    "    #   seq_tensor: [1D tensor] sentence as token indices\n",
    "    #   rnn : instance of SRN class\n",
    "    # Output\n",
    "    #   loss : [scalar] average NLL loss across prediction steps\n",
    "    # TODO : YOUR CODE GOES HERE\n",
    "    \n",
    "    hidden = rnn.initHidden()\n",
    "    rnn.train()\n",
    "    rnn.zero_grad()\n",
    "    loss = 0\n",
    "    seq_length = seq_tensor.shape[0]\n",
    "\n",
    "    for i in range(seq_length - 1):\n",
    "        output, hidden = rnn(seq_tensor[i], hidden)\n",
    "        loss += criterion(output, seq_tensor[i+1]) \n",
    "    loss.backward()\n",
    "    optimizer.step()\n",
    "    \n",
    "    return loss.item() / float(seq_length-1)\n",
    "    # raise Exception('Replace with your code.')"
   ]
  },
  {
   "cell_type": "code",
   "execution_count": 77,
   "id": "7a27333d-8119-4c19-aaac-6ce3a0196bf0",
   "metadata": {},
   "outputs": [
    {
     "name": "stdout",
     "output_type": "stream",
     "text": [
      "loss for epoch 1 is: 5.84838923764425\n",
      "loss for epoch 2 is: 5.398807506653127\n",
      "loss for epoch 3 is: 5.299154941454927\n",
      "loss for epoch 4 is: 5.21383682654944\n",
      "loss for epoch 5 is: 5.120794988007336\n",
      "loss for epoch 6 is: 5.0290779528510186\n",
      "loss for epoch 7 is: 4.942206458620023\n",
      "loss for epoch 8 is: 4.860055015050724\n",
      "loss for epoch 9 is: 4.781286136250283\n",
      "loss for epoch 10 is: 4.711491887575302\n",
      "loss for epoch 11 is: 4.641924303304604\n",
      "loss for epoch 12 is: 4.586562073761504\n",
      "loss for epoch 13 is: 4.528585156884687\n",
      "loss for epoch 14 is: 4.481584337696389\n",
      "loss for epoch 15 is: 4.43193177735542\n",
      "loss for epoch 16 is: 4.389161386661188\n",
      "loss for epoch 17 is: 4.347685991900509\n",
      "loss for epoch 18 is: 4.306155905842579\n",
      "loss for epoch 19 is: 4.2774254046243625\n",
      "loss for epoch 20 is: 4.242613468543169\n",
      "loss for epoch 21 is: 4.212438662523828\n",
      "loss for epoch 22 is: 4.1796806581965535\n",
      "loss for epoch 23 is: 4.156764946649557\n",
      "loss for epoch 24 is: 4.129257760603989\n",
      "loss for epoch 25 is: 4.101780417492669\n",
      "loss for epoch 26 is: 4.078495866289363\n",
      "loss for epoch 27 is: 4.055827833686943\n",
      "loss for epoch 28 is: 4.035330869470431\n",
      "loss for epoch 29 is: 4.014486335862255\n",
      "loss for epoch 30 is: 3.989845612485927\n"
     ]
    }
   ],
   "source": [
    "# Main training loop\n",
    "nepochs = 30 # number of passes through the entire training set \n",
    "nhidden = 20 # number of hidden units in the SRN\n",
    "rnn = SRN(n_tokens,nhidden)\n",
    "optimizer = torch.optim.AdamW(rnn.parameters(), weight_decay=0.04) # w/ default learning rate 0.001\n",
    "criterion = nn.NLLLoss()\n",
    "\n",
    "for i in range(nepochs):\n",
    "    perm = np.random.permutation(len(training_pats))\n",
    "    error_epoch = 0.\n",
    "    for p in perm:\n",
    "        loss = train(training_pats[p], rnn)\n",
    "        error_epoch += loss\n",
    "    error_epoch = error_epoch / float(len(training_pats)) \n",
    "    print(f\"loss for epoch {i+1} is: {error_epoch}\")\n",
    "# raise Exception('Replace with your code.')"
   ]
  },
  {
   "cell_type": "code",
   "execution_count": 80,
   "id": "73cdfbd0-fa8e-4709-b7b5-e176c302e30c",
   "metadata": {},
   "outputs": [
    {
     "name": "stdout",
     "output_type": "stream",
     "text": [
      "loss for epoch 1 is: 3.9766114231385057\n",
      "loss for epoch 2 is: 3.9556714235513066\n",
      "loss for epoch 3 is: 3.9408493778715536\n",
      "loss for epoch 4 is: 3.925501357656632\n",
      "loss for epoch 5 is: 3.909311758661381\n",
      "loss for epoch 6 is: 3.8950903644959602\n",
      "loss for epoch 7 is: 3.884016550742065\n",
      "loss for epoch 8 is: 3.8646140932400104\n",
      "loss for epoch 9 is: 3.8593036060418715\n",
      "loss for epoch 10 is: 3.845104106343648\n",
      "loss for epoch 11 is: 3.830540582628162\n",
      "loss for epoch 12 is: 3.827197053849031\n",
      "loss for epoch 13 is: 3.80915233676753\n",
      "loss for epoch 14 is: 3.8035410603668347\n",
      "loss for epoch 15 is: 3.792375121681533\n",
      "loss for epoch 16 is: 3.783462442029705\n",
      "loss for epoch 17 is: 3.7735783287500233\n",
      "loss for epoch 18 is: 3.769932101696781\n",
      "loss for epoch 19 is: 3.7575775616565825\n",
      "loss for epoch 20 is: 3.7493766283929975\n",
      "loss for epoch 21 is: 3.743622321792408\n",
      "loss for epoch 22 is: 3.7389348306528163\n",
      "loss for epoch 23 is: 3.723214733379133\n",
      "loss for epoch 24 is: 3.7187591837149903\n",
      "loss for epoch 25 is: 3.713025897494164\n",
      "loss for epoch 26 is: 3.7130399950361186\n",
      "loss for epoch 27 is: 3.699868171296449\n",
      "loss for epoch 28 is: 3.699170865329903\n",
      "loss for epoch 29 is: 3.6910459860913334\n",
      "loss for epoch 30 is: 3.686740947653294\n",
      "loss for epoch 31 is: 3.6857134311114548\n",
      "loss for epoch 32 is: 3.675790000038145\n",
      "loss for epoch 33 is: 3.6696336755634085\n",
      "loss for epoch 34 is: 3.668185864811102\n",
      "loss for epoch 35 is: 3.6651645105580477\n",
      "loss for epoch 36 is: 3.6574138339305398\n",
      "loss for epoch 37 is: 3.650304633594733\n",
      "loss for epoch 38 is: 3.6531114315158866\n",
      "loss for epoch 39 is: 3.646551283740742\n",
      "loss for epoch 40 is: 3.6422258542110515\n",
      "loss for epoch 41 is: 3.637835625253225\n",
      "loss for epoch 42 is: 3.6380442880989237\n",
      "loss for epoch 43 is: 3.6294207299810513\n",
      "loss for epoch 44 is: 3.631818775486312\n",
      "loss for epoch 45 is: 3.626156875296242\n",
      "loss for epoch 46 is: 3.6218294965607445\n",
      "loss for epoch 47 is: 3.6183486486045964\n",
      "loss for epoch 48 is: 3.614410892688305\n",
      "loss for epoch 49 is: 3.6206194950811375\n",
      "loss for epoch 50 is: 3.6118028179853106\n",
      "loss for epoch 51 is: 3.607779461473286\n",
      "loss for epoch 52 is: 3.6087694632190344\n",
      "loss for epoch 53 is: 3.6052146745108646\n",
      "loss for epoch 54 is: 3.601516707359803\n",
      "loss for epoch 55 is: 3.6008158507653985\n",
      "loss for epoch 56 is: 3.595240317926545\n",
      "loss for epoch 57 is: 3.594424380716298\n",
      "loss for epoch 58 is: 3.593508637951486\n",
      "loss for epoch 59 is: 3.5873227663665017\n",
      "loss for epoch 60 is: 3.588288444383114\n"
     ]
    }
   ],
   "source": [
    "for i in range(nepochs+30):\n",
    "    perm = np.random.permutation(len(training_pats))\n",
    "    error_epoch = 0.\n",
    "    for p in perm:\n",
    "        loss = train(training_pats[p], rnn)\n",
    "        error_epoch += loss\n",
    "    error_epoch = error_epoch / float(len(training_pats)) \n",
    "    print(f\"loss for epoch {i+1} is: {error_epoch}\")"
   ]
  },
  {
   "cell_type": "code",
   "execution_count": 83,
   "id": "ab16f29d-2686-4d1b-8fac-dbd343284e72",
   "metadata": {},
   "outputs": [
    {
     "name": "stdout",
     "output_type": "stream",
     "text": [
      "loss for epoch 90 is: 3.589308126546911\n",
      "loss for epoch 91 is: 3.5878763081644167\n",
      "loss for epoch 92 is: 3.581989797808927\n",
      "loss for epoch 93 is: 3.5778059512303573\n",
      "loss for epoch 94 is: 3.57918649316113\n",
      "loss for epoch 95 is: 3.5780377708187183\n",
      "loss for epoch 96 is: 3.57295443104342\n",
      "loss for epoch 97 is: 3.5724429558936373\n",
      "loss for epoch 98 is: 3.572600331113379\n",
      "loss for epoch 99 is: 3.5708308656320784\n",
      "loss for epoch 100 is: 3.571070381740541\n",
      "loss for epoch 101 is: 3.5650028237346008\n",
      "loss for epoch 102 is: 3.565815558187015\n",
      "loss for epoch 103 is: 3.562597083360607\n",
      "loss for epoch 104 is: 3.563531583436094\n",
      "loss for epoch 105 is: 3.563377500819634\n",
      "loss for epoch 106 is: 3.560799641435406\n",
      "loss for epoch 107 is: 3.5545438794444024\n",
      "loss for epoch 108 is: 3.5596391328739374\n",
      "loss for epoch 109 is: 3.5517309024806765\n",
      "loss for epoch 110 is: 3.5514361392586844\n",
      "loss for epoch 111 is: 3.5547583027486156\n",
      "loss for epoch 112 is: 3.5509670845731103\n",
      "loss for epoch 113 is: 3.5495358637927956\n",
      "loss for epoch 114 is: 3.548755598246091\n",
      "loss for epoch 115 is: 3.544737454867868\n",
      "loss for epoch 116 is: 3.548848101244701\n",
      "loss for epoch 117 is: 3.5451848821105787\n",
      "loss for epoch 118 is: 3.545472751100819\n",
      "loss for epoch 119 is: 3.543028477626061\n"
     ]
    }
   ],
   "source": [
    "for i in range(nepochs):\n",
    "    perm = np.random.permutation(len(training_pats))\n",
    "    error_epoch = 0.\n",
    "    for p in perm:\n",
    "        loss = train(training_pats[p], rnn)\n",
    "        error_epoch += loss\n",
    "    error_epoch = error_epoch / float(len(training_pats)) \n",
    "    print(f\"loss for epoch {i+90} is: {error_epoch}\")"
   ]
  },
  {
   "cell_type": "code",
   "execution_count": 89,
   "id": "30782994-20ce-4b69-b962-01e6163358bb",
   "metadata": {},
   "outputs": [
    {
     "name": "stdout",
     "output_type": "stream",
     "text": [
      "loss for epoch 121 is: 3.539721503939346\n",
      "loss for epoch 122 is: 3.5411744573892756\n",
      "loss for epoch 123 is: 3.535571280097607\n",
      "loss for epoch 124 is: 3.533704675368968\n",
      "loss for epoch 125 is: 3.540868912533242\n",
      "loss for epoch 126 is: 3.530230048749737\n",
      "loss for epoch 127 is: 3.537581955405599\n",
      "loss for epoch 128 is: 3.53231860984677\n",
      "loss for epoch 129 is: 3.5318743962108927\n",
      "loss for epoch 130 is: 3.532901664604124\n",
      "loss for epoch 131 is: 3.5305647273909955\n",
      "loss for epoch 132 is: 3.5267893517102515\n",
      "loss for epoch 133 is: 3.5247207522890522\n",
      "loss for epoch 134 is: 3.5304588299258315\n",
      "loss for epoch 135 is: 3.52863536048957\n",
      "loss for epoch 136 is: 3.5236276432090436\n",
      "loss for epoch 137 is: 3.5231853800781536\n",
      "loss for epoch 138 is: 3.5223170515212385\n",
      "loss for epoch 139 is: 3.5204096179522595\n",
      "loss for epoch 140 is: 3.523788500216987\n",
      "loss for epoch 141 is: 3.522207681959478\n",
      "loss for epoch 142 is: 3.517494902660083\n",
      "loss for epoch 143 is: 3.5170228336361284\n",
      "loss for epoch 144 is: 3.5149518289125568\n",
      "loss for epoch 145 is: 3.518994641911904\n",
      "loss for epoch 146 is: 3.514934778350756\n",
      "loss for epoch 147 is: 3.5143303781298894\n",
      "loss for epoch 148 is: 3.5125441754661413\n",
      "loss for epoch 149 is: 3.513450047002841\n",
      "loss for epoch 150 is: 3.5126478247398834\n"
     ]
    }
   ],
   "source": [
    "for i in range(nepochs):\n",
    "    perm = np.random.permutation(len(training_pats))\n",
    "    error_epoch = 0.\n",
    "    for p in perm:\n",
    "        loss = train(training_pats[p], rnn)\n",
    "        error_epoch += loss\n",
    "    error_epoch = error_epoch / float(len(training_pats)) \n",
    "    print(f\"loss for epoch {i+121} is: {error_epoch}\")"
   ]
  },
  {
   "cell_type": "code",
   "execution_count": 95,
   "id": "7df0ceeb-3743-4b50-8974-530cc89b2dd0",
   "metadata": {},
   "outputs": [],
   "source": [
    "torch.save(rnn.state_dict(), '150_epochs_stemmed_weights.pth')"
   ]
  },
  {
   "cell_type": "code",
   "execution_count": 98,
   "id": "0f87a5ed-3811-4f4f-973e-3ae459b43a14",
   "metadata": {},
   "outputs": [
    {
     "data": {
      "text/plain": [
       "SRN(\n",
       "  (embed): Embedding(1929, 20)\n",
       "  (fc1): Linear(in_features=40, out_features=20, bias=True)\n",
       "  (fc2): Linear(in_features=20, out_features=1929, bias=True)\n",
       "  (sigmoid): Sigmoid()\n",
       "  (softmax): LogSoftmax(dim=0)\n",
       ")"
      ]
     },
     "execution_count": 98,
     "metadata": {},
     "output_type": "execute_result"
    }
   ],
   "source": [
    "# Create a new model with the same architecture\n",
    "loaded_model = SRN(n_tokens,nhidden)\n",
    "\n",
    "# Load the saved weights into the new model\n",
    "loaded_model.load_state_dict(torch.load('150_epochs_stemmed_weights.pth'))\n",
    "\n",
    "# Set the model to evaluation mode\n",
    "loaded_model.eval()"
   ]
  },
  {
   "cell_type": "code",
   "execution_count": 99,
   "id": "d08da75f-568c-4e7c-93ab-4641b6815bce",
   "metadata": {},
   "outputs": [
    {
     "data": {
      "image/png": "[encoded data removed]",
      "text/plain": [
       "<Figure size 2880x1080 with 1 Axes>"
      ]
     },
     "metadata": {
      "needs_background": "light"
     },
     "output_type": "display_data"
    }
   ],
   "source": [
    "def plot_dendo(X, names, exclude=['<SOS>','<EOS>']):\n",
    "    #  Show hierarchical clustering of vectors \n",
    "    #\n",
    "    # Input\n",
    "    #  X : numpy tensor [nitem x dim] such that each row is a vector to be clustered\n",
    "    #  names : [length nitem] list of item names\n",
    "    #  exclude: list of names we want to exclude       \n",
    "    nitem = len(names)\n",
    "    names  = np.array(names)\n",
    "    include = np.array([myname not in exclude for myname in names], dtype=bool)\n",
    "    linked = linkage(X[include],'single', optimal_ordering=True)\n",
    "    plt.figure(figsize=(40,15))\n",
    "    \n",
    "    # truncate to show only 50 high level clusters\n",
    "    n_clusters = 40\n",
    "    dendrogram(linked, labels=names[include], color_threshold=0, leaf_font_size=20, truncate_mode='lastp', p=n_clusters)\n",
    "    # dendrogram(linked, labels=names[include], color_threshold=0, leaf_font_size=8)\n",
    "    plt.show()\n",
    "    \n",
    "    # plt.savefig(\"word_embeddings_dendrogram.png\", dpi=300, bbox_inches='tight')\n",
    "\n",
    "plot_dendo(rnn.get_embeddings(), unique_tokens)"
   ]
  },
  {
   "cell_type": "code",
   "execution_count": 88,
   "id": "83e27a3c-f420-442f-b732-f5c92b4a8fa6",
   "metadata": {},
   "outputs": [
    {
     "name": "stdout",
     "output_type": "stream",
     "text": [
      "<SOS> lesson a boat when i thi bring again matter we appear on the box which cover a ben explain an\n",
      "<SOS> the wrong have spent to hi doorbel build alway hi hard at all wrong beer <EOS>\n",
      "<SOS> lesson are out when the idea of the ugliest monster have been near hi along those hat thi york plane\n",
      "<SOS> you set not up in a plough besid the warm ride will have he hurri <EOS>\n",
      "<SOS> lesson an by an forc and she chose balloon dream of been thought stori under if polit year <EOS>\n",
      "<SOS> i he said hand on the futur mile drift english <EOS>\n",
      "<SOS> after the holiday they had told me to the theatr <EOS>\n",
      "<SOS> <EOS>\n",
      "<SOS> they will school be tune in <EOS>\n",
      "<SOS> sinc jenni i never open me <EOS>\n",
      "<SOS> lesson an young <EOS>\n",
      "<SOS> when glanc at the water it is said a bedsid modern tini peopl and find a assist park busi the\n",
      "<SOS> the trip had just never turn that ten sweet <EOS>\n",
      "<SOS> everybodi fewer all bed had to walk move that a new machin when a young is year and a lot\n",
      "<SOS> at the snake wa yesterday as hard back twelv the elect <EOS>\n",
      "<SOS> young men perci button <EOS>\n",
      "<SOS> for then space mile boy <EOS>\n",
      "<SOS> he had come away for a train flour and thi week howev you are a train to persuad more but\n",
      "<SOS> the woman descend the wallet believ rude car ask hi luck <EOS>\n",
      "<SOS> he like with hi air <EOS>\n"
     ]
    }
   ],
   "source": [
    "def generate(rnn, maxlen=20):\n",
    "    # TODO : YOUR CODE GOES HERE\n",
    "    # concat = torch.cat((special_token, prob_tensor),0)\n",
    "\n",
    "    with torch.no_grad():\n",
    "        output = torch.tensor(1) # assume it starts with <SOS>\n",
    "        hidden = rnn.initHidden()\n",
    "        res = [index_to_token[output.item()]]\n",
    "        for i in range(maxlen):\n",
    "            output, hidden = rnn(output, hidden)\n",
    "            m = torch.distributions.categorical.Categorical(torch.exp(output))\n",
    "            output = m.sample()\n",
    "            res.append(index_to_token[output.item()])\n",
    "            if output.item() == 0:\n",
    "                break\n",
    "            \n",
    "        print(\" \".join(res))\n",
    "# raise Exception('Replace with your code.')\n",
    "    \n",
    "for i in range(20):\n",
    "    generate(rnn)"
   ]
  },
  {
   "cell_type": "code",
   "execution_count": null,
   "id": "e21ea393-5178-4405-b42f-95df2087203c",
   "metadata": {},
   "outputs": [],
   "source": []
  }
 ],
 "metadata": {
  "kernelspec": {
   "display_name": "Python 3 (ipykernel)",
   "language": "python",
   "name": "python3"
  },
  "language_info": {
   "codemirror_mode": {
    "name": "ipython",
    "version": 3
   },
   "file_extension": ".py",
   "mimetype": "text/x-python",
   "name": "python",
   "nbconvert_exporter": "python",
   "pygments_lexer": "ipython3",
   "version": "3.7.11"
  }
 },
 "nbformat": 4,
 "nbformat_minor": 5
}
