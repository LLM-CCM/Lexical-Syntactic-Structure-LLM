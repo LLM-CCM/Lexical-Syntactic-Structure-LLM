{
 "cells": [
  {
   "cell_type": "markdown",
   "id": "f6360d99-35cf-4fb3-a915-97ceff5ebcba",
   "metadata": {},
   "source": [
    "# Hierarchical Clustering Analysis"
   ]
  },
  {
   "cell_type": "code",
   "execution_count": null,
   "id": "f3eed45e-442a-4f5c-8974-b960f1c69bdc",
   "metadata": {},
   "outputs": [],
   "source": [
    "# Let's start with some packages we need\n",
    "from __future__ import print_function\n",
    "import torch\n",
    "import torch.nn as nn\n",
    "import numpy as np\n",
    "import matplotlib\n",
    "%matplotlib inline\n",
    "import matplotlib.pyplot as plt\n",
    "from scipy.cluster.hierarchy import dendrogram, linkage"
   ]
  },
  {
   "cell_type": "code",
   "execution_count": null,
   "id": "d08120e9-c2cb-4414-aff4-b04515f1f361",
   "metadata": {},
   "outputs": [],
   "source": [
    "import re\n",
    "import string\n",
    "import nltk\n",
    "nltk.download('wordnet')\n",
    "nltk.download('omw-1.4')\n",
    "from nltk.stem import WordNetLemmatizer"
   ]
  },
  {
   "cell_type": "code",
   "execution_count": null,
   "id": "aa5092ea-7db6-40f1-a84d-122a9a87e5e9",
   "metadata": {},
   "outputs": [],
   "source": [
    "# Read the contents of the text file\n",
    "with open(\"data/NCE2.txt\", \"r\") as file:\n",
    "    text = file.read()\n",
    "    \n",
    "def remove_non_ascii(s):\n",
    "    return re.sub(r'[^\\x00-\\x7F]+|\\d|&', '', s)\n",
    "\n",
    "# Create a lemmatizer object\n",
    "lemmatizer = WordNetLemmatizer()\n",
    "\n",
    "# Splitting the text into sentences\n",
    "sentences = re.split(r'(?<!\\w\\.\\w.)(?<![A-Z][a-z]\\.)(?<=\\.|\\?)\\s|\\n', text)\n",
    "sentences = [remove_non_ascii(item) for item in sentences]\n",
    "print(sentences)"
   ]
  },
  {
   "cell_type": "code",
   "execution_count": null,
   "id": "656b4530-77fd-42a0-be39-46ddd7dbda53",
   "metadata": {},
   "outputs": [],
   "source": [
    "# Preprocessing function\n",
    "def preprocess(sentence):\n",
    "    # Convert to lowercase\n",
    "    sentence = sentence.lower()\n",
    "    # Remove punctuation\n",
    "    sentence = sentence.translate(str.maketrans(\"\", \"\", string.punctuation))\n",
    "    # Tokenize the sentence\n",
    "    words = sentence.split()\n",
    "    # Lemmatize the words considering their POS tags\n",
    "    lemmatized_words = [lemmatizer.lemmatize(word) for word in words]\n",
    "    return lemmatized_words\n",
    "\n",
    "# Applying the preprocessing function to each sentence\n",
    "preprocessed_sentences = [preprocess(sentence) for sentence in sentences]\n",
    "sentences_tokens = [['<SOS>']+s+['<EOS>'] for s in preprocessed_sentences]\n",
    "print(sentences_tokens)"
   ]
  },
  {
   "cell_type": "code",
   "execution_count": null,
   "id": "d3b88320-99b6-4479-88e2-a26afcc1ea8b",
   "metadata": {},
   "outputs": [],
   "source": [
    "unique_tokens = sorted(set(sum(sentences_tokens,[])))\n",
    "# print(unique_tokens)\n",
    "\n",
    "def sentenceToTensor(tokens_list):\n",
    "    # Convert list of strings to tensor of token indices (integers)\n",
    "    #\n",
    "    # Input\n",
    "    #  tokens_list : list of strings, e.g. ['<SOS>','lion','eat','man','<EOS>']\n",
    "    # Output\n",
    "    #  1D tensor of the same length (integers), e.g., tensor([ 2, 18, 13, 19,  0])\n",
    "    assert(isinstance(tokens_list,list))\n",
    "    tokens_index = [token_to_index[token] for token in tokens_list]\n",
    "    return torch.tensor(tokens_index)\n",
    "\n",
    "n_tokens = len(unique_tokens) # all words and special tokens\n",
    "token_to_index = {t : i for i,t in enumerate(unique_tokens)}\n",
    "index_to_token = {i : t for i,t in enumerate(unique_tokens)}\n",
    "training_pats = [sentenceToTensor(s) for s in sentences_tokens] # python list of 1D sentence tensors\n",
    "ntrain = len(training_pats)\n",
    "print('mapping unique tokens to integers: %s \\n' % token_to_index)\n",
    "print('example sentence as string: %s \\n' % ' '.join(sentences_tokens[0]))\n",
    "print('example sentence as tensor: %s \\n' % training_pats[0])\n",
    "\n",
    "print(unique_tokens)"
   ]
  },
  {
   "cell_type": "markdown",
   "id": "41fc1182-f281-4257-81cd-97d7a1bd042d",
   "metadata": {},
   "source": [
    "### RNN Architecture\n"
   ]
  },
  {
   "cell_type": "code",
   "execution_count": null,
   "id": "8ebddb55-a5be-4f47-b806-af87e7a06b37",
   "metadata": {},
   "outputs": [],
   "source": [
    "class SRN(nn.Module):\n",
    "    \n",
    "    def __init__(self, vocab_size, hidden_size):\n",
    "        # vocab_size : number of tokens in vocabulary including special tokens <SOS> and <EOS>\n",
    "        # hidden_size : dim of input embeddings and hidden layer\n",
    "        super().__init__()\n",
    "        self.vocab_size = vocab_size\n",
    "        self.hidden_size = hidden_size\n",
    "        self.embed = nn.Embedding(vocab_size,hidden_size)\n",
    "        # TODO : YOUR CODE GOES HERE\n",
    "        self.fc1 = nn.Linear(hidden_size + hidden_size, hidden_size)\n",
    "        self.fc2 = nn.Linear(hidden_size, vocab_size)\n",
    "        self.sigmoid = nn.Sigmoid()\n",
    "        self.softmax = nn.LogSoftmax(dim=0)\n",
    "        # raise Exception('Replace with your code.')\n",
    "\n",
    "    def forward(self, input_token_index, hidden_prev):\n",
    "        # Input\n",
    "        #    input_token_index: [integer] index of current input tokens\n",
    "        #    hidden_prev: [length hidden_size 1D tensor] hidden state from previous step\n",
    "        # Outpuut\n",
    "        #    output: [length vocab_size 1D tensor] log-probability of emitting each output token\n",
    "        #    hidden_curr : [length hidden_size 1D tensor] hidden state for current step\n",
    "    \n",
    "        input_embed = self.embed(input_token_index) # hidden_size 1D tensor\n",
    "        \n",
    "        input_combined = torch.cat((input_embed, hidden_prev), 0) #previous hidden states + input_embed\n",
    "        hidden_curr = self.sigmoid(self.fc1(input_combined))\n",
    "        output = self.softmax(self.fc2(hidden_curr))\n",
    "\n",
    "        # raise Exception('Replace with your code.')\n",
    "        return output, hidden_curr\n",
    "\n",
    "    def initHidden(self):\n",
    "        # Returns length hidden_size 1D tensor of zeros\n",
    "        return torch.zeros(self.hidden_size)\n",
    "    \n",
    "    def get_embeddings(self):\n",
    "        # Returns [vocab_size x hidden_size] numpy array of input embeddings\n",
    "        return self.embed(torch.arange(self.vocab_size)).detach().numpy()"
   ]
  },
  {
   "cell_type": "markdown",
   "id": "734cc2f2-e9fa-4e70-a369-facfd7bc1c4b",
   "metadata": {},
   "source": [
    "### Training"
   ]
  },
  {
   "cell_type": "code",
   "execution_count": 60,
   "id": "67d4c6fe-c852-44bb-8d4f-d21fdb91bdd4",
   "metadata": {},
   "outputs": [],
   "source": [
    "def train(seq_tensor, rnn):\n",
    "    # Process a sentence and update the SRN weights. With <SOS> as the input at step 0,\n",
    "    # predict every subsequent word given the past words.\n",
    "    # Return the mean loss across each symbol prediction.\n",
    "    #\n",
    "    # Input\n",
    "    #   seq_tensor: [1D tensor] sentence as token indices\n",
    "    #   rnn : instance of SRN class\n",
    "    # Output\n",
    "    #   loss : [scalar] average NLL loss across prediction steps\n",
    "    # TODO : YOUR CODE GOES HERE\n",
    "    # 定义梯度裁剪阈值\n",
    "    clip_value = 1.0\n",
    "    \n",
    "    hidden = rnn.initHidden()\n",
    "    rnn.train()\n",
    "    rnn.zero_grad()\n",
    "    loss = 0\n",
    "    seq_length = seq_tensor.shape[0]\n",
    "\n",
    "    for i in range(seq_length - 1):\n",
    "        output, hidden = rnn(seq_tensor[i], hidden)\n",
    "        loss += criterion(output, seq_tensor[i+1]) \n",
    "    loss.backward()\n",
    "    \n",
    "    # grad_norm = 0\n",
    "    # for p in rnn.parameters():\n",
    "    #     if p.grad is not None:\n",
    "    #         grad_norm += p.grad.data.norm(2).item()\n",
    "    # grad_norm = grad_norm ** 0.5\n",
    "    # print(f\"Gradient norm: {grad_norm}\")\n",
    "    \n",
    "     # 对梯度进行裁剪\n",
    "    torch.nn.utils.clip_grad_norm_(rnn.parameters(), clip_value)\n",
    "    optimizer.step()\n",
    "\n",
    "    return loss.item() / float(seq_length-1)\n",
    "    # raise Exception('Replace with your code.')"
   ]
  },
  {
   "cell_type": "code",
   "execution_count": 62,
   "id": "8efc73cc-299d-4e92-ac2d-930a677abc17",
   "metadata": {},
   "outputs": [
    {
     "name": "stdout",
     "output_type": "stream",
     "text": [
      "loss for epoch 1 is: 5.912179321804785\n",
      "loss for epoch 2 is: 5.3628547650069365\n",
      "loss for epoch 3 is: 5.25639391365713\n",
      "loss for epoch 4 is: 5.173107493026819\n",
      "loss for epoch 5 is: 5.084677913625382\n",
      "loss for epoch 6 is: 4.996124918399211\n",
      "loss for epoch 7 is: 4.9107850272041365\n",
      "loss for epoch 8 is: 4.830719090975124\n",
      "loss for epoch 9 is: 4.753794840376251\n",
      "loss for epoch 10 is: 4.683395884203897\n",
      "loss for epoch 11 is: 4.613389976409399\n",
      "loss for epoch 12 is: 4.550378832460072\n",
      "loss for epoch 13 is: 4.489347377115565\n",
      "loss for epoch 14 is: 4.4326377638854755\n",
      "loss for epoch 15 is: 4.379089639556071\n",
      "loss for epoch 16 is: 4.326496205494814\n",
      "loss for epoch 17 is: 4.284211193560002\n",
      "loss for epoch 18 is: 4.23122230036463\n",
      "loss for epoch 19 is: 4.194125275298086\n",
      "loss for epoch 20 is: 4.152139331451823\n",
      "loss for epoch 21 is: 4.114963722392867\n",
      "loss for epoch 22 is: 4.0800244720503125\n",
      "loss for epoch 23 is: 4.045468899419214\n",
      "loss for epoch 24 is: 4.015978500947707\n",
      "loss for epoch 25 is: 3.987723417713075\n",
      "loss for epoch 26 is: 3.9574277686174053\n",
      "loss for epoch 27 is: 3.931187563036229\n",
      "loss for epoch 28 is: 3.9040666063342155\n",
      "loss for epoch 29 is: 3.8830499221557626\n",
      "loss for epoch 30 is: 3.8602271524865355\n",
      "loss for epoch 31 is: 3.8399362340931704\n",
      "loss for epoch 32 is: 3.8181076735918644\n",
      "loss for epoch 33 is: 3.7986913445398494\n",
      "loss for epoch 34 is: 3.7800844803530205\n",
      "loss for epoch 35 is: 3.763176846339991\n",
      "loss for epoch 36 is: 3.7468802864940933\n",
      "loss for epoch 37 is: 3.731292270501754\n",
      "loss for epoch 38 is: 3.7165977043757574\n",
      "loss for epoch 39 is: 3.700889791581079\n",
      "loss for epoch 40 is: 3.684033818854903\n",
      "loss for epoch 41 is: 3.675715260323498\n",
      "loss for epoch 42 is: 3.6625802607649365\n",
      "loss for epoch 43 is: 3.6481653721528744\n",
      "loss for epoch 44 is: 3.6379317575507906\n",
      "loss for epoch 45 is: 3.627657187517293\n",
      "loss for epoch 46 is: 3.614941437908558\n",
      "loss for epoch 47 is: 3.608370603211251\n",
      "loss for epoch 48 is: 3.589364959194091\n",
      "loss for epoch 49 is: 3.590311744458564\n",
      "loss for epoch 50 is: 3.5784179520364634\n"
     ]
    }
   ],
   "source": [
    "# Main training loop\n",
    "nepochs = 50 # number of passes through the entire training set \n",
    "nhidden = 20 # number of hidden units in the SRN\n",
    "rnn = SRN(n_tokens,nhidden)\n",
    "optimizer = torch.optim.AdamW(rnn.parameters(), weight_decay=0.04) # w/ default learning rate 0.001\n",
    "criterion = nn.NLLLoss()\n",
    "\n",
    "for i in range(nepochs):\n",
    "    perm = np.random.permutation(len(training_pats))\n",
    "    error_epoch = 0.\n",
    "    for p in perm:\n",
    "        loss = train(training_pats[p], rnn)\n",
    "        error_epoch += loss\n",
    "    error_epoch = error_epoch / float(len(training_pats)) \n",
    "    print(f\"loss for epoch {i+1} is: {error_epoch}\")\n",
    "# raise Exception('Replace with your code.')"
   ]
  },
  {
   "cell_type": "code",
   "execution_count": 63,
   "id": "0ffe2525-ef14-41a8-9c85-0780cc0079d7",
   "metadata": {},
   "outputs": [
    {
     "name": "stdout",
     "output_type": "stream",
     "text": [
      "loss for epoch 51 is: 3.567387441253734\n",
      "loss for epoch 52 is: 3.562214718293782\n",
      "loss for epoch 53 is: 3.552611543703556\n",
      "loss for epoch 54 is: 3.5467823023778253\n",
      "loss for epoch 55 is: 3.538385248475277\n",
      "loss for epoch 56 is: 3.5307398599466646\n",
      "loss for epoch 57 is: 3.5237495630220117\n",
      "loss for epoch 58 is: 3.5155120995613736\n",
      "loss for epoch 59 is: 3.5119168109389856\n",
      "loss for epoch 60 is: 3.501646030564078\n",
      "loss for epoch 61 is: 3.5018144222195895\n",
      "loss for epoch 62 is: 3.490232992743481\n",
      "loss for epoch 63 is: 3.487534890810137\n",
      "loss for epoch 64 is: 3.4787055262316073\n",
      "loss for epoch 65 is: 3.474375424430301\n",
      "loss for epoch 66 is: 3.4674598284749663\n",
      "loss for epoch 67 is: 3.4643391661608818\n",
      "loss for epoch 68 is: 3.4586726296185133\n",
      "loss for epoch 69 is: 3.453563154624032\n",
      "loss for epoch 70 is: 3.449492987093196\n"
     ]
    }
   ],
   "source": [
    "for i in range(20):\n",
    "    perm = np.random.permutation(len(training_pats))\n",
    "    error_epoch = 0.\n",
    "    for p in perm:\n",
    "        loss = train(training_pats[p], rnn)\n",
    "        error_epoch += loss\n",
    "    error_epoch = error_epoch / float(len(training_pats)) \n",
    "    print(f\"loss for epoch {i+51} is: {error_epoch}\")\n",
    "# raise Exception('Replace with your code.')"
   ]
  },
  {
   "cell_type": "code",
   "execution_count": 69,
   "id": "9220cb80-5c18-4b10-b1f0-3870ec61db67",
   "metadata": {},
   "outputs": [
    {
     "name": "stdout",
     "output_type": "stream",
     "text": [
      "loss for epoch 71 is: 3.4424145424658517\n",
      "loss for epoch 72 is: 3.437579482388836\n",
      "loss for epoch 73 is: 3.436528884173241\n",
      "loss for epoch 74 is: 3.429689329950653\n",
      "loss for epoch 75 is: 3.426843437017119\n",
      "loss for epoch 76 is: 3.4211488857423906\n",
      "loss for epoch 77 is: 3.418312945807308\n",
      "loss for epoch 78 is: 3.414799665286172\n",
      "loss for epoch 79 is: 3.408559932671979\n",
      "loss for epoch 80 is: 3.405334395082766\n",
      "loss for epoch 81 is: 3.4003384122664047\n",
      "loss for epoch 82 is: 3.4026270456197074\n",
      "loss for epoch 83 is: 3.3947904673514184\n",
      "loss for epoch 84 is: 3.3906878318894615\n",
      "loss for epoch 85 is: 3.3877439955342337\n",
      "loss for epoch 86 is: 3.3842317193687395\n",
      "loss for epoch 87 is: 3.3822838604071035\n",
      "loss for epoch 88 is: 3.3782204301674037\n",
      "loss for epoch 89 is: 3.3757587864751057\n",
      "loss for epoch 90 is: 3.3731407788377563\n",
      "loss for epoch 91 is: 3.3671138353899295\n",
      "loss for epoch 92 is: 3.365810287425494\n",
      "loss for epoch 93 is: 3.360174674269506\n",
      "loss for epoch 94 is: 3.3620811862468356\n",
      "loss for epoch 95 is: 3.357372508524727\n",
      "loss for epoch 96 is: 3.3550279038647584\n",
      "loss for epoch 97 is: 3.351323211413912\n",
      "loss for epoch 98 is: 3.3500340738072407\n",
      "loss for epoch 99 is: 3.3475454925104944\n",
      "loss for epoch 100 is: 3.3446351081978847\n"
     ]
    }
   ],
   "source": [
    "for i in range(30):\n",
    "    perm = np.random.permutation(len(training_pats))\n",
    "    error_epoch = 0.\n",
    "    for p in perm:\n",
    "        loss = train(training_pats[p], rnn)\n",
    "        error_epoch += loss\n",
    "    error_epoch = error_epoch / float(len(training_pats)) \n",
    "    print(f\"loss for epoch {i+71} is: {error_epoch}\")\n",
    "# raise Exception('Replace with your code.')"
   ]
  },
  {
   "cell_type": "code",
   "execution_count": 72,
   "id": "f8d842fb-8dfa-49cf-8414-3b6f659b1660",
   "metadata": {},
   "outputs": [],
   "source": [
    "torch.save(rnn.state_dict(), 'weights/100_epochs_clipped_weights.pth')"
   ]
  },
  {
   "cell_type": "code",
   "execution_count": 73,
   "id": "3f5842dc-58f1-48aa-9eaa-1fa29b793574",
   "metadata": {},
   "outputs": [
    {
     "name": "stdout",
     "output_type": "stream",
     "text": [
      "loss for epoch 101 is: 3.3412683594834554\n",
      "loss for epoch 102 is: 3.339655004231356\n",
      "loss for epoch 103 is: 3.338534433734587\n",
      "loss for epoch 104 is: 3.3357967517953178\n",
      "loss for epoch 105 is: 3.3330112521687685\n",
      "loss for epoch 106 is: 3.3309175381252025\n",
      "loss for epoch 107 is: 3.3273709033832533\n",
      "loss for epoch 108 is: 3.325990574812757\n",
      "loss for epoch 109 is: 3.323331648356362\n",
      "loss for epoch 110 is: 3.323625961615833\n",
      "loss for epoch 111 is: 3.3195783971385744\n",
      "loss for epoch 112 is: 3.3175669626146274\n",
      "loss for epoch 113 is: 3.316582696658131\n",
      "loss for epoch 114 is: 3.3140112190557667\n",
      "loss for epoch 115 is: 3.3111240320214925\n",
      "loss for epoch 116 is: 3.31006342177852\n",
      "loss for epoch 117 is: 3.3104999842528233\n",
      "loss for epoch 118 is: 3.305625914599676\n",
      "loss for epoch 119 is: 3.304653869775097\n",
      "loss for epoch 120 is: 3.302264131017262\n",
      "loss for epoch 121 is: 3.303582331821966\n",
      "loss for epoch 122 is: 3.2985205819834893\n",
      "loss for epoch 123 is: 3.296936734296015\n",
      "loss for epoch 124 is: 3.296700456210218\n",
      "loss for epoch 125 is: 3.2948456189597723\n",
      "loss for epoch 126 is: 3.294359622950229\n",
      "loss for epoch 127 is: 3.291047596944899\n",
      "loss for epoch 128 is: 3.290585579704429\n",
      "loss for epoch 129 is: 3.287089268151803\n",
      "loss for epoch 130 is: 3.2883695230682264\n",
      "loss for epoch 131 is: 3.2844781692895415\n",
      "loss for epoch 132 is: 3.2847512650714945\n",
      "loss for epoch 133 is: 3.282286813659875\n",
      "loss for epoch 134 is: 3.2804598674787395\n",
      "loss for epoch 135 is: 3.2799939612967477\n",
      "loss for epoch 136 is: 3.280633538938674\n",
      "loss for epoch 137 is: 3.27603205986663\n",
      "loss for epoch 138 is: 3.2783353824328243\n",
      "loss for epoch 139 is: 3.2749540043903185\n",
      "loss for epoch 140 is: 3.2748565563528675\n",
      "loss for epoch 141 is: 3.2717816979666345\n",
      "loss for epoch 142 is: 3.2734002207253243\n",
      "loss for epoch 143 is: 3.270698288275763\n",
      "loss for epoch 144 is: 3.269585055541116\n",
      "loss for epoch 145 is: 3.268205651497727\n",
      "loss for epoch 146 is: 3.2667876949673356\n",
      "loss for epoch 147 is: 3.267232059401635\n",
      "loss for epoch 148 is: 3.2628534673539775\n",
      "loss for epoch 149 is: 3.2634525621479527\n",
      "loss for epoch 150 is: 3.2636576403705093\n"
     ]
    }
   ],
   "source": [
    "for i in range(50):\n",
    "    perm = np.random.permutation(len(training_pats))\n",
    "    error_epoch = 0.\n",
    "    for p in perm:\n",
    "        loss = train(training_pats[p], rnn)\n",
    "        error_epoch += loss\n",
    "    error_epoch = error_epoch / float(len(training_pats)) \n",
    "    print(f\"loss for epoch {i+101} is: {error_epoch}\")\n",
    "# raise Exception('Replace with your code.')"
   ]
  },
  {
   "cell_type": "code",
   "execution_count": 74,
   "id": "4691a7db-9dbd-4284-920d-5649f3a06605",
   "metadata": {},
   "outputs": [],
   "source": [
    "torch.save(rnn.state_dict(), 'weights/150_epochs_clipped_weights.pth')"
   ]
  },
  {
   "cell_type": "code",
   "execution_count": null,
   "id": "1779d922-5ea7-4b26-b2e6-2dd426e6dbf5",
   "metadata": {},
   "outputs": [],
   "source": [
    "# Create a new model with the same architecture\n",
    "loaded_model = SRN(n_tokens,nhidden)\n",
    "\n",
    "# Load the saved weights into the new model\n",
    "loaded_model.load_state_dict(torch.load('weights/100_epochs_lemmatized_weights.pth'))\n",
    "\n",
    "# Set the model to evaluation mode\n",
    "loaded_model.eval()"
   ]
  },
  {
   "cell_type": "code",
   "execution_count": 75,
   "id": "a8842d04-dc11-4411-b220-9d67129e7c50",
   "metadata": {},
   "outputs": [
    {
     "data": {
      "image/png": "[encoded data removed]",
      "text/plain": [
       "<Figure size 2880x1080 with 1 Axes>"
      ]
     },
     "metadata": {
      "needs_background": "light"
     },
     "output_type": "display_data"
    }
   ],
   "source": [
    "def plot_dendo(X, names, exclude=['<SOS>','<EOS>']):\n",
    "    #  Show hierarchical clustering of vectors \n",
    "    #\n",
    "    # Input\n",
    "    #  X : numpy tensor [nitem x dim] such that each row is a vector to be clustered\n",
    "    #  names : [length nitem] list of item names\n",
    "    #  exclude: list of names we want to exclude       \n",
    "    nitem = len(names)\n",
    "    names  = np.array(names)\n",
    "    include = np.array([myname not in exclude for myname in names], dtype=bool)\n",
    "    linked = linkage(X[include],'single', optimal_ordering=True)\n",
    "    plt.figure(figsize=(40,15))\n",
    "    \n",
    "    # truncate to show only 50 high level clusters\n",
    "    n_clusters = 60\n",
    "    dendrogram(linked, labels=names[include], color_threshold=0, leaf_font_size=25, truncate_mode='lastp', p=n_clusters)\n",
    "    # dendrogram(linked, labels=names[include], color_threshold=0, leaf_font_size=8)\n",
    "    plt.show()\n",
    "    \n",
    "    # plt.savefig(\"word_embeddings_dendrogram.png\", dpi=300, bbox_inches='tight')\n",
    "\n",
    "plot_dendo(rnn.get_embeddings(), unique_tokens)"
   ]
  },
  {
   "cell_type": "markdown",
   "id": "447d6d6d-3c3a-4b57-91bf-1d48f4d15e1e",
   "metadata": {},
   "source": [
    "### Generate outputs"
   ]
  },
  {
   "cell_type": "code",
   "execution_count": 76,
   "id": "5c23d6fa-9063-46e6-93ac-30611e9d8a78",
   "metadata": {},
   "outputs": [
    {
     "name": "stdout",
     "output_type": "stream",
     "text": [
      "<SOS> the cause patient answered <EOS>\n",
      "<SOS> im special mountain but nearly fell it always the telephone now <EOS>\n",
      "<SOS> i had come into a special capsule <EOS>\n",
      "<SOS> last it wa now fireman leave mr thompson had been a lot and men taking him <EOS>\n",
      "<SOS> the whole too cause need in reluctant to note sorry contained him difficult your we had come to length and\n",
      "<SOS> i never our long very hard and it is that difficult i had after sent will be held a rude\n",
      "<SOS> <EOS>\n",
      "<SOS> are placed into the station for long very floor then is only year and he could very these tree <EOS>\n",
      "<SOS> when none of shepenmut who had waited <EOS>\n",
      "<SOS> lesson a letter my wife come his one voice immediately harry been sing <EOS>\n",
      "<SOS> we by one just she wa flown confidence <EOS>\n",
      "<SOS> when the aeroplane began so <EOS>\n",
      "<SOS> when they so i past pedestal carried inside some microphone are read in first bill london <EOS>\n",
      "<SOS> she said to he had thing at the next aircraft <EOS>\n",
      "<SOS> i have so paint when even a hole hall i got off museum and a is a year when i\n",
      "<SOS> of young his shop sack <EOS>\n",
      "<SOS> lesson a scientist ha enjoy anyone for supper <EOS>\n",
      "<SOS> she take his office <EOS>\n",
      "<SOS> he is simply rare out a usual <EOS>\n",
      "<SOS> im doctor just received saying it is how to give control <EOS>\n"
     ]
    }
   ],
   "source": [
    "def generate(rnn, maxlen=20):\n",
    "    # TODO : YOUR CODE GOES HERE\n",
    "    # concat = torch.cat((special_token, prob_tensor),0)\n",
    "\n",
    "    with torch.no_grad():\n",
    "        output = torch.tensor(1) # assume it starts with <SOS>\n",
    "        hidden = rnn.initHidden()\n",
    "        res = [index_to_token[output.item()]]\n",
    "        for i in range(maxlen):\n",
    "            output, hidden = rnn(output, hidden)\n",
    "            m = torch.distributions.categorical.Categorical(torch.exp(output))\n",
    "            output = m.sample()\n",
    "            res.append(index_to_token[output.item()])\n",
    "            if output.item() == 0:\n",
    "                break\n",
    "            \n",
    "        print(\" \".join(res))\n",
    "# raise Exception('Replace with your code.')\n",
    "    \n",
    "for i in range(20):\n",
    "    generate(loaded_model)"
   ]
  },
  {
   "cell_type": "code",
   "execution_count": null,
   "id": "7869d850-0071-4cad-aa95-ec791cbe44fe",
   "metadata": {},
   "outputs": [],
   "source": []
  }
 ],
 "metadata": {
  "kernelspec": {
   "display_name": "Python 3 (ipykernel)",
   "language": "python",
   "name": "python3"
  },
  "language_info": {
   "codemirror_mode": {
    "name": "ipython",
    "version": 3
   },
   "file_extension": ".py",
   "mimetype": "text/x-python",
   "name": "python",
   "nbconvert_exporter": "python",
   "pygments_lexer": "ipython3",
   "version": "3.7.11"
  }
 },
 "nbformat": 4,
 "nbformat_minor": 5
}
