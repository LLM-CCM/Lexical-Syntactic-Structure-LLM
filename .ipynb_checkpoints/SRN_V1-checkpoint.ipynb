{
 "cells": [
  {
   "cell_type": "markdown",
   "id": "a6e8786a-a118-4144-9886-0bfb9c901629",
   "metadata": {},
   "source": [
    "# Easiest network-- predict Exclusive-OR\n",
    "\n",
    "\n",
    "\n",
    "\n",
    "\n",
    "# Predict next input\n",
    "\n",
    "- generate 1000 letter sequence containing d, b, g\n",
    "- replace d, b, g with dii, ba, guuu\n",
    "\n",
    "## network architecture\n",
    "6 input units, 20 hidden units, 6 output units, 20 context units\n"
   ]
  },
  {
   "cell_type": "code",
   "execution_count": null,
   "id": "eb501bd9-bfbb-4b7d-bb24-79fb8d018099",
   "metadata": {},
   "outputs": [],
   "source": []
  }
 ],
 "metadata": {
  "kernelspec": {
   "display_name": "Python 3 (ipykernel)",
   "language": "python",
   "name": "python3"
  },
  "language_info": {
   "codemirror_mode": {
    "name": "ipython",
    "version": 3
   },
   "file_extension": ".py",
   "mimetype": "text/x-python",
   "name": "python",
   "nbconvert_exporter": "python",
   "pygments_lexer": "ipython3",
   "version": "3.7.11"
  }
 },
 "nbformat": 4,
 "nbformat_minor": 5
}
